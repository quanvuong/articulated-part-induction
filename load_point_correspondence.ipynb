{
 "cells": [
  {
   "cell_type": "code",
   "execution_count": 1,
   "metadata": {},
   "outputs": [],
   "source": [
    "import numpy as onp \n",
    "import data_prep\n",
    "\n",
    "NPOINT = 1024\n",
    "NMASK = 10\n",
    "TRAIN_DATASET = data_prep.FlowDataset('data/flow_train.mat', npoint=NPOINT)\n",
    "\n",
    "def get_batch_data(dataset, idxs, start_idx, end_idx):\n",
    "    bsize = end_idx-start_idx\n",
    "    batch_pcpair = onp.zeros((bsize, NPOINT, 6), dtype=onp.float)\n",
    "    batch_flow = onp.zeros((bsize, NPOINT, 3), dtype=onp.float)\n",
    "    batch_vismask = onp.zeros((bsize, NPOINT), dtype=onp.float)\n",
    "    batch_momasks = onp.zeros((bsize, NMASK, NPOINT), dtype=onp.float)\n",
    "    for i in range(bsize):\n",
    "        pc1, pc2, flow12, vismask, momasks = dataset[idxs[i+start_idx]]\n",
    "        batch_pcpair[i,...] = onp.concatenate((pc1,pc2), 1)\n",
    "        batch_flow[i,...] = flow12\n",
    "        batch_vismask[i,:] = vismask\n",
    "        batch_momasks[i,...] = onp.transpose(momasks)\n",
    "    return batch_pcpair, batch_flow, batch_vismask, batch_momasks\n",
    "\n",
    "train_idxs = onp.arange(0, len(TRAIN_DATASET))\n",
    "start_idx = 0\n",
    "end_idx = len(TRAIN_DATASET)\n",
    "batch_pcpair, batch_flow, batch_vismask, batch_momasks = get_batch_data(TRAIN_DATASET, train_idxs, start_idx, end_idx)"
   ]
  },
  {
   "cell_type": "code",
   "execution_count": 2,
   "metadata": {},
   "outputs": [
    {
     "name": "stdout",
     "output_type": "stream",
     "text": [
      "(15084, 1024, 6)\n",
      "(15084, 1024, 3)\n"
     ]
    }
   ],
   "source": [
    "print(batch_pcpair.shape)\n",
    "print(batch_flow.shape)"
   ]
  },
  {
   "cell_type": "code",
   "execution_count": 3,
   "metadata": {},
   "outputs": [],
   "source": [
    "xyz1, xyz2 = onp.split(batch_pcpair, indices_or_sections=2, axis=2)"
   ]
  },
  {
   "cell_type": "code",
   "execution_count": 4,
   "metadata": {},
   "outputs": [],
   "source": [
    "# diff = onp.expand_dims(xyz2, 1) - onp.expand_dims(xyz1 + batch_flow, 2)\n",
    "# print(diff.shape)\n",
    "# matching = onp.argmin(\n",
    "#     onp.sum(\n",
    "#         onp.square(\n",
    "#             diff\n",
    "#         ),\n",
    "#         axis=-1\n",
    "#     ),\n",
    "#     axis=2\n",
    "# )"
   ]
  },
  {
   "cell_type": "code",
   "execution_count": 5,
   "metadata": {},
   "outputs": [],
   "source": [
    "colors = onp.random.rand(NPOINT, 3)"
   ]
  },
  {
   "cell_type": "code",
   "execution_count": null,
   "metadata": {},
   "outputs": [],
   "source": [
    "import open3d as o3d\n",
    "\n",
    "idx = 200\n",
    "viz_offset = 1.0\n",
    "nssp = NPOINT\n",
    "\n",
    "permidx = onp.random.permutation(xyz1[idx].shape[0])[:nssp]\n",
    "ssp_xyz1 = xyz1[idx][permidx]\n",
    "ssp_xyz2 = xyz2[idx][permidx]\n",
    "\n",
    "pcd1 = o3d.geometry.PointCloud()\n",
    "pcd1.points = o3d.utility.Vector3dVector(ssp_xyz1)\n",
    "\n",
    "pcd2 = o3d.geometry.PointCloud()\n",
    "pcd2.points = o3d.utility.Vector3dVector(ssp_xyz2 + viz_offset)\n",
    "\n",
    "corr = [(i, i) for i in range(len(ssp_xyz1))]\n",
    "\n",
    "line_set = o3d.geometry.LineSet().create_from_point_cloud_correspondences(pcd1, pcd2, corr)\n",
    "line_set.colors = o3d.utility.Vector3dVector(colors[:nssp])\n",
    "\n",
    "o3d.visualization.draw_geometries([pcd1, pcd2])"
   ]
  },
  {
   "cell_type": "code",
   "execution_count": null,
   "metadata": {},
   "outputs": [],
   "source": []
  },
  {
   "cell_type": "code",
   "execution_count": null,
   "metadata": {},
   "outputs": [],
   "source": []
  }
 ],
 "metadata": {
  "file_extension": ".py",
  "kernelspec": {
   "display_name": "Python 3",
   "language": "python",
   "name": "python3"
  },
  "language_info": {
   "codemirror_mode": {
    "name": "ipython",
    "version": 3
   },
   "file_extension": ".py",
   "mimetype": "text/x-python",
   "name": "python",
   "nbconvert_exporter": "python",
   "pygments_lexer": "ipython3",
   "version": "3.7.6"
  },
  "mimetype": "text/x-python",
  "name": "python",
  "npconvert_exporter": "python",
  "pygments_lexer": "ipython2",
  "version": 2
 },
 "nbformat": 4,
 "nbformat_minor": 4
}
